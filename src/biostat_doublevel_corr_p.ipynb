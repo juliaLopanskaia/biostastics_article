{
 "cells": [
  {
   "cell_type": "code",
   "execution_count": 1,
   "metadata": {},
   "outputs": [],
   "source": [
    "# simulation to understand biostatistics\n",
    "\n",
    "import numpy as np\n",
    "import matplotlib.pyplot as plt\n",
    "from scipy.stats import ttest_ind\n",
    "from scipy.stats import t as tpdf\n",
    "from math import *\n",
    "\n",
    "N_per_day=10; \n",
    "N_days=3;\n",
    "\n",
    "true_exp_mean=0.8;\n",
    "true_control_mean=0.8;\n",
    "\n",
    "inter_day_SD=0.25; #um/s\n",
    "sigma=0.3; #intra_day_SD;\n",
    "\n",
    "\n",
    "mean_exp=true_exp_mean+inter_day_SD*np.random.randn(1,N_days);\n",
    "mean_control=true_control_mean+inter_day_SD*np.random.randn(1,N_days);\n",
    "\n",
    "\n",
    "day_exp=mean_exp+sigma*np.random.randn(N_per_day,N_days);\n",
    "day_control=mean_control+sigma*np.random.randn(N_per_day,N_days);\n",
    "mexp=np.mean(day_exp,axis=0);\n",
    "mctr=np.mean(day_control,axis=0);"
   ]
  },
  {
   "cell_type": "code",
   "execution_count": 2,
   "metadata": {},
   "outputs": [
    {
     "data": {
      "image/png": "[encoded data removed]",
      "text/plain": [
       "<Figure size 432x288 with 1 Axes>"
      ]
     },
     "metadata": {
      "needs_background": "light"
     },
     "output_type": "display_data"
    }
   ],
   "source": [
    "fig, ax = plt.subplots()\n",
    "fig = plt.plot(np.ones((N_per_day,1))+0.05/sqrt(N_days)*np.random.randn(N_per_day,1), day_exp,'.',markersize=6)\n",
    "\n",
    "colord = []\n",
    "for i in range(len(fig)):\n",
    "    colord.append(fig[i].get_color())\n",
    "#print(colord)\n",
    "col=colord\n",
    "\n",
    "plt.scatter(np.ones(N_days), mexp, 1000, col,'+',lineWidths=3)\n",
    "\n",
    "arr_control=2*np.ones((N_per_day,1))+0.05/sqrt(N_days)*np.random.randn(N_per_day,1)\n",
    "for i in range(N_per_day):\n",
    "    for j in range(N_days):\n",
    "        plt.plot(arr_control[i], day_control[i][j],'.',markersize=6,color=col[j])\n",
    "plt.scatter(2*np.ones(N_days), mctr, 1000, col,'+',lineWidths=3)\n",
    "\n",
    "ax.set_xlim(0,3)\n",
    "plt.show()"
   ]
  },
  {
   "cell_type": "code",
   "execution_count": 3,
   "metadata": {},
   "outputs": [
    {
     "name": "stdout",
     "output_type": "stream",
     "text": [
      "Means are different (pooled data), p-value is 0.35\n",
      "Means are different (per-day means), p-value is 0.70\n",
      "Mean value in experiment 1.05\n",
      "Mean value in control 0.98 \n",
      "\n"
     ]
    }
   ],
   "source": [
    "exp_pooled=[]\n",
    "ctr_pooled=[]\n",
    "\n",
    "for i in range(N_per_day):\n",
    "    for j in range(N_days):\n",
    "        exp_pooled.append(day_exp[i][j])\n",
    "        ctr_pooled.append(day_control[i][j])\n",
    "exp_dayly=mexp\n",
    "ctr_dayly=mctr\n",
    "\n",
    "ICC=inter_day_SD**2/(inter_day_SD**2+sigma**2);\n",
    "\n",
    "h,p_pool = ttest_ind(exp_pooled,ctr_pooled);\n",
    "if h==0:\n",
    "    print('Means are the same (pooled data), p-value is {:2.2f}'.format(p_pool))\n",
    "else:\n",
    "    print('Means are different (pooled data), p-value is {:2.2f}'.format(p_pool))\n",
    "\n",
    "h,p_mean = ttest_ind(exp_dayly,ctr_dayly);\n",
    "if h==0:\n",
    "    print('Means are the same (per-day means), p-value is {:2.2f}'.format(p_mean))\n",
    "else:\n",
    "    print('Means are different (per-day means), p-value is {:2.2f}'.format(p_mean))\n",
    "\n",
    "print('Mean value in experiment {:2.2f}'.format(np.mean(exp_dayly)))\n",
    "print('Mean value in control {:2.2f} \\n'.format(np.mean(ctr_dayly)))"
   ]
  },
  {
   "cell_type": "code",
   "execution_count": 4,
   "metadata": {},
   "outputs": [
    {
     "name": "stdout",
     "output_type": "stream",
     "text": [
      "P-value based on t-distribution probability function is 0.71\n"
     ]
    }
   ],
   "source": [
    "# Total number of days\n",
    "N=N_per_day*N_days\n",
    "# correction factor for t-distribution\n",
    "c=sqrt(((N-2)-2*(N_per_day-1)*ICC)/((N-2)*(1+(N_per_day-1)*ICC)))\n",
    "# corrected degrees of freedom\n",
    "df=((N-2)-2*(N_per_day-1)*ICC)**2/((N-2)*(1-ICC)**2+N_per_day-1*(N-2*N_per_day-1)*ICC+2*(N-2*N_per_day)*ICC*(1-ICC))\n",
    "# standard deviation of two datasets\n",
    "s=sqrt(((N-1)*np.std(exp_pooled)**2+(N-1)*np.std(ctr_pooled)**2)/(2*N-2))\n",
    "# t-test\n",
    "t=abs(np.mean(exp_pooled)-np.mean(ctr_pooled))/(s*sqrt(1/N+1/N))\n",
    "# corrected t-test\n",
    "ta=c*t\n",
    "# p-value = integral of t-distribution probability function\n",
    "pval=2*sum(tpdf.pdf(np.arange(ta,100,0.001),df)*0.001)\n",
    "print('P-value based on t-distribution probability function is {:2.2f}'.format(pval))"
   ]
  }
 ],
 "metadata": {
  "kernelspec": {
   "display_name": "Python 3",
   "language": "python",
   "name": "python3"
  },
  "language_info": {
   "codemirror_mode": {
    "name": "ipython",
    "version": 3
   },
   "file_extension": ".py",
   "mimetype": "text/x-python",
   "name": "python",
   "nbconvert_exporter": "python",
   "pygments_lexer": "ipython3",
   "version": "3.7.6"
  }
 },
 "nbformat": 4,
 "nbformat_minor": 4
}
