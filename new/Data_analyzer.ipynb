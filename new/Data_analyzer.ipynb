{
 "cells": [
  {
   "cell_type": "code",
   "execution_count": 21,
   "metadata": {},
   "outputs": [],
   "source": [
    "%run ./code.ipynb #or another path to the file with the main code"
   ]
  },
  {
   "cell_type": "markdown",
   "metadata": {},
   "source": [
    "### Analyzing the data that we enter here"
   ]
  },
  {
   "cell_type": "code",
   "execution_count": 22,
   "metadata": {},
   "outputs": [],
   "source": [
    "#Your experimental data\n",
    "#Example:\n",
    "data_exp =  np.array([\n",
    "    np.array([0.7,0.8,0.6,0.5,1, 0.8]), #1st claster\n",
    "    np.array([1.1,0.9,0.8,0.8,0.9, 1]), #2nd claster\n",
    "    np.array([0.7,0.6,0.8,0.9,0.7]) #3rd claster\n",
    "], dtype=object)"
   ]
  },
  {
   "cell_type": "code",
   "execution_count": 23,
   "metadata": {},
   "outputs": [],
   "source": [
    "#control or comparing data\n",
    "#Example:\n",
    "data_control = np.array([\n",
    "    [1,1,1.5,0.5,1], #1st claster\n",
    "    [1.1,1.2,0.8,1.3,1.0, 1.1], #2nd claster\n",
    "    [1,1.1,1.3,1.05,0.95]#3rd claster\n",
    "], dtype=object)"
   ]
  },
  {
   "cell_type": "code",
   "execution_count": 24,
   "metadata": {},
   "outputs": [
    {
     "name": "stdout",
     "output_type": "stream",
     "text": [
      "Mean experimetal =  0.8\n",
      "Mean control =  1.056\n",
      "\n",
      "inter cluster SD = 0.081\n",
      "intra cluster SD = 0.192\n",
      "ICC =  0.151\n",
      "\n",
      "\n",
      "p value adjusted =  0.014\n",
      "Reject the null hypothesis of equality of means with a significance level of 0.05\n",
      "\n",
      "\n"
     ]
    },
    {
     "name": "stderr",
     "output_type": "stream",
     "text": [
      "C:\\Users\\Igor\\anaconda3\\lib\\site-packages\\scipy\\stats\\stats.py:1603: UserWarning: kurtosistest only valid for n>=20 ... continuing anyway, n=17\n",
      "  warnings.warn(\"kurtosistest only valid for n>=20 ... continuing \"\n",
      "C:\\Users\\Igor\\anaconda3\\lib\\site-packages\\scipy\\stats\\stats.py:1603: UserWarning: kurtosistest only valid for n>=20 ... continuing anyway, n=16\n",
      "  warnings.warn(\"kurtosistest only valid for n>=20 ... continuing \"\n"
     ]
    },
    {
     "name": "stdout",
     "output_type": "stream",
     "text": [
      "Let's assume that the measured parameters are true and simulate data based on them.\n",
      "So, the probability of false negative error is 0.263\n",
      "If there were  4  clusters, the false negative error would be 0.139\n",
      "\n",
      "\n",
      "Let's assume that your SD are true and \n",
      " mean_exp = mean_control = (mean_exp+ mean_control)/2 =  0.928\n",
      "So, the probability of false positive error is 0.042\n"
     ]
    },
    {
     "data": {
      "image/png": "[encoded data removed]",
      "text/plain": [
       "<Figure size 432x288 with 1 Axes>"
      ]
     },
     "metadata": {
      "needs_background": "light"
     },
     "output_type": "display_data"
    }
   ],
   "source": [
    "analyze(data_exp, data_control, forecast_error=True)"
   ]
  },
  {
   "cell_type": "markdown",
   "metadata": {},
   "source": [
    "### Analyzing the data we read from the file\n",
    " The text file must consist of lines (clusters), each of which contains numbers separated by a space."
   ]
  },
  {
   "cell_type": "code",
   "execution_count": 25,
   "metadata": {},
   "outputs": [
    {
     "name": "stderr",
     "output_type": "stream",
     "text": [
      "<ipython-input-21-957173d2301b>:5: VisibleDeprecationWarning: Creating an ndarray from ragged nested sequences (which is a list-or-tuple of lists-or-tuples-or ndarrays with different lengths or shapes) is deprecated. If you meant to do this, you must specify 'dtype=object' when creating the ndarray\n",
      "  matrix = np.array(m)\n"
     ]
    }
   ],
   "source": [
    "data_exp = read_file('experiment.txt')\n",
    "data_control = read_file('control.txt')"
   ]
  },
  {
   "cell_type": "code",
   "execution_count": 26,
   "metadata": {},
   "outputs": [
    {
     "name": "stdout",
     "output_type": "stream",
     "text": [
      "Mean experimetal =  0.991\n",
      "Mean control =  1.056\n",
      "\n",
      "inter cluster SD = 0.068\n",
      "intra cluster SD = 0.198\n",
      "ICC =  0.106\n",
      "\n",
      "\n",
      "p value adjusted =  0.459\n",
      "There is no reason to reject the null hypothesis of equality of means with a significance level of 0.05\n",
      "\n",
      "\n"
     ]
    },
    {
     "name": "stderr",
     "output_type": "stream",
     "text": [
      "C:\\Users\\Igor\\anaconda3\\lib\\site-packages\\scipy\\stats\\stats.py:1603: UserWarning: kurtosistest only valid for n>=20 ... continuing anyway, n=16\n",
      "  warnings.warn(\"kurtosistest only valid for n>=20 ... continuing \"\n"
     ]
    },
    {
     "name": "stdout",
     "output_type": "stream",
     "text": [
      "Let's assume that the measured parameters are true and simulate data based on them.\n",
      "So, the probability of false negative error is 0.904\n",
      "If there were  13  clusters, the false negative error would be 0.638\n",
      "If there were  23  clusters, the false negative error would be 0.458\n",
      "If there were  33  clusters, the false negative error would be 0.305\n",
      "If there were  43  clusters, the false negative error would be 0.183\n",
      "\n",
      "\n",
      "Let's assume that your SD are true and \n",
      " mean_exp = mean_control = (mean_exp+ mean_control)/2 =  1.024\n",
      "So, the probability of false positive error is 0.039\n"
     ]
    },
    {
     "data": {
      "image/png": "[encoded data removed]",
      "text/plain": [
       "<Figure size 432x288 with 1 Axes>"
      ]
     },
     "metadata": {
      "needs_background": "light"
     },
     "output_type": "display_data"
    }
   ],
   "source": [
    "analyze(data_exp, data_control, forecast_error=True, plus_number_cluster=10)"
   ]
  },
  {
   "cell_type": "markdown",
   "metadata": {},
   "source": [
    "You can also read csv files. For example, if your data is in Excel. You can save them in csv format. And upload it here. In this case, each row will be considered as a separate cluster. Use different data to load different data (experiment and control)."
   ]
  },
  {
   "cell_type": "code",
   "execution_count": 27,
   "metadata": {},
   "outputs": [
    {
     "name": "stderr",
     "output_type": "stream",
     "text": [
      "<ipython-input-21-8dc71d1f3857>:14: VisibleDeprecationWarning: Creating an ndarray from ragged nested sequences (which is a list-or-tuple of lists-or-tuples-or ndarrays with different lengths or shapes) is deprecated. If you meant to do this, you must specify 'dtype=object' when creating the ndarray\n",
      "  matrix = np.array(matrix)\n"
     ]
    }
   ],
   "source": [
    "data_exp = read_file_csv(r'C:\\Users\\Igor\\Desktop\\example_data.csv')#Your path to the file\n",
    "data_control = read_file_csv(r'C:\\Users\\Igor\\Desktop\\example_data.csv')#Your path to the file"
   ]
  },
  {
   "cell_type": "code",
   "execution_count": 28,
   "metadata": {},
   "outputs": [
    {
     "name": "stdout",
     "output_type": "stream",
     "text": [
      "Mean experimetal =  3.96\n",
      "Mean control =  3.96\n",
      "\n",
      "inter cluster SD = 0.858\n",
      "intra cluster SD = 0.805\n",
      "ICC =  0.532\n",
      "\n",
      "\n",
      "p value adjusted =  1.0\n",
      "There is no reason to reject the null hypothesis of equality of means with a significance level of 0.05\n",
      "\n",
      "\n",
      "Let's assume that the measured parameters are true and simulate data based on them.\n",
      "So, the probability of false negative error is 0.022\n",
      "\n",
      "\n",
      "Let's assume that your SD are true and \n",
      " mean_exp = mean_control = (mean_exp+ mean_control)/2 =  3.96\n",
      "So, the probability of false positive error is 0.02\n"
     ]
    },
    {
     "data": {
      "image/png": "[encoded data removed]",
      "text/plain": [
       "<Figure size 432x288 with 1 Axes>"
      ]
     },
     "metadata": {
      "needs_background": "light"
     },
     "output_type": "display_data"
    }
   ],
   "source": [
    "analyze(data_exp, data_control)"
   ]
  },
  {
   "cell_type": "code",
   "execution_count": null,
   "metadata": {},
   "outputs": [],
   "source": []
  }
 ],
 "metadata": {
  "kernelspec": {
   "display_name": "Python 3",
   "language": "python",
   "name": "python3"
  },
  "language_info": {
   "codemirror_mode": {
    "name": "ipython",
    "version": 3
   },
   "file_extension": ".py",
   "mimetype": "text/x-python",
   "name": "python",
   "nbconvert_exporter": "python",
   "pygments_lexer": "ipython3",
   "version": "3.8.5"
  }
 },
 "nbformat": 4,
 "nbformat_minor": 4
}
