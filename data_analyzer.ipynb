{
 "cells": [
  {
   "cell_type": "code",
   "execution_count": 18,
   "metadata": {},
   "outputs": [],
   "source": [
    "#Your data\n",
    "#experimental data broken down by clusters\n",
    "\n",
    "exper = np.array([\n",
    "    [0.7,0.8,0.6,0.5,1], #1st claster\n",
    "    [1.1,0.9,0.8,0.8,0.9], #2nd claster\n",
    "    [0.7,0.6,0.8,0.9,0.7] #3rd claster\n",
    "])"
   ]
  },
  {
   "cell_type": "code",
   "execution_count": 19,
   "metadata": {},
   "outputs": [],
   "source": [
    "#control or comparing data broken down by clusters\n",
    "\n",
    "control = np.array([\n",
    "    [1,1,1.5,0.5,1], #1st claster\n",
    "    [1.1,1.2,0.8,1.3,1.0], #2nd claster\n",
    "    [0.8,0.9,1,0.7,0.8] #3rd claster\n",
    "])"
   ]
  },
  {
   "cell_type": "code",
   "execution_count": 20,
   "metadata": {},
   "outputs": [
    {
     "data": {
      "image/png": "[encoded data removed]",
      "text/plain": [
       "<Figure size 432x288 with 1 Axes>"
      ]
     },
     "metadata": {},
     "output_type": "display_data"
    }
   ],
   "source": [
    "display_data(exper, control)"
   ]
  },
  {
   "cell_type": "code",
   "execution_count": 21,
   "metadata": {},
   "outputs": [
    {
     "name": "stdout",
     "output_type": "stream",
     "text": [
      "Mean experimetal 0.7866666666666666\n",
      "Mean control 0.9733333333333334\n",
      "inter cluster SD = 0.098657657246325\n",
      "intra cluster SD = 0.14719601443879746\n"
     ]
    }
   ],
   "source": [
    "inter, intra = SD(exper, control)\n",
    "print('Mean experimetal', exper.mean())\n",
    "print('Mean control', control.mean())\n",
    "print('inter cluster SD =', inter)\n",
    "print('intra cluster SD =', intra)"
   ]
  },
  {
   "cell_type": "code",
   "execution_count": 22,
   "metadata": {},
   "outputs": [
    {
     "name": "stdout",
     "output_type": "stream",
     "text": [
      "p value adjusted =  0.16871896490464922\n"
     ]
    }
   ],
   "source": [
    "print('p value adjusted = ', p_value(exper, control))"
   ]
  },
  {
   "cell_type": "code",
   "execution_count": 23,
   "metadata": {},
   "outputs": [
    {
     "name": "stdout",
     "output_type": "stream",
     "text": [
      "Probability of false negative error if your mean and SD are true is 0.403\n",
      "If there are  4  clusters, the false negative error will be 0.377\n",
      "If there are  5  clusters, the false negative error will be 0.296\n",
      "If there are  6  clusters, the false negative error will be 0.187\n"
     ]
    }
   ],
   "source": [
    "pb_err = what_probability_false_negative(exper, control)\n",
    "print('Probability of false negative error if your mean and SD are true is', pb_err)\n",
    "\n",
    "k = 1\n",
    "while pb_err > 0.2:\n",
    "    pb_err = what_probability_false_negative(exper, control, plus_number_claster=k)\n",
    "    print('If there are ', k + len(exper), ' clusters, the false negative error will be' , pb_err)\n",
    "    k += 1"
   ]
  },
  {
   "cell_type": "code",
   "execution_count": 24,
   "metadata": {},
   "outputs": [
    {
     "name": "stdout",
     "output_type": "stream",
     "text": [
      "exper mean = 0.7866666666666666\n",
      "control mean = 0.9733333333333334\n",
      "What if exper mean = control mean =  0.88\n",
      "Then probability of false positive error is  0.027\n"
     ]
    }
   ],
   "source": [
    "print('exper mean =', exper.mean() )\n",
    "print('control mean =', control.mean() )\n",
    "print('What if exper mean = control mean = ', (exper.mean()+control.mean())/2)\n",
    "\n",
    "print('Then probability of false positive error is ', what_probability_false_positive(exper, control))"
   ]
  },
  {
   "cell_type": "code",
   "execution_count": null,
   "metadata": {},
   "outputs": [],
   "source": []
  },
  {
   "cell_type": "code",
   "execution_count": null,
   "metadata": {},
   "outputs": [],
   "source": []
  },
  {
   "cell_type": "code",
   "execution_count": null,
   "metadata": {},
   "outputs": [],
   "source": []
  },
  {
   "cell_type": "code",
   "execution_count": null,
   "metadata": {},
   "outputs": [],
   "source": []
  },
  {
   "cell_type": "code",
   "execution_count": null,
   "metadata": {},
   "outputs": [],
   "source": []
  },
  {
   "cell_type": "code",
   "execution_count": null,
   "metadata": {},
   "outputs": [],
   "source": []
  },
  {
   "cell_type": "code",
   "execution_count": null,
   "metadata": {},
   "outputs": [],
   "source": []
  },
  {
   "cell_type": "code",
   "execution_count": 1,
   "metadata": {},
   "outputs": [],
   "source": [
    "import numpy as np\n",
    "import matplotlib.pyplot as plt\n",
    "import matplotlib.cm as cm\n",
    "import seaborn as sns; sns.set_theme()\n",
    "from scipy import stats\n",
    "from random import randint\n",
    "from scipy.stats import t as tpdf\n",
    "import matplotlib.ticker as ticker"
   ]
  },
  {
   "cell_type": "code",
   "execution_count": null,
   "metadata": {},
   "outputs": [],
   "source": []
  },
  {
   "cell_type": "code",
   "execution_count": 2,
   "metadata": {},
   "outputs": [],
   "source": [
    "def SD(exper, control):\n",
    "    \n",
    "    #print('inter_claster_SD: exper and control')\n",
    "    #print(exper.mean(axis=1).std(ddof=1), control.mean(axis=1).std(ddof=1))\n",
    "    inter_claster_SD = exper.mean(axis=1).std(ddof=1)\n",
    "    \n",
    "    #print('intra_claster_SD: exper and control')\n",
    "    #print(np.sqrt((exper.std(axis=1, ddof=1)**2).sum()/(len(exper))), np.sqrt((control.std(axis=1, ddof=1)**2).sum()/(len(control))))\n",
    "    intra_claster_SD = np.sqrt((exper.std(axis=1, ddof=1)**2).sum()/(len(exper)))\n",
    "    \n",
    "    return inter_claster_SD, intra_claster_SD\n",
    "    \n",
    "    "
   ]
  },
  {
   "cell_type": "code",
   "execution_count": 3,
   "metadata": {},
   "outputs": [],
   "source": [
    "def p_value(exper, control):\n",
    "    \n",
    "    inter_claster_SD, intra_claster_SD = SD(exper, control)\n",
    "    \n",
    "    N_claster = len(control)\n",
    "    N_intra_claster = len(control[0])\n",
    "    \n",
    "    ICC = inter_claster_SD**2/(inter_claster_SD**2+intra_claster_SD**2)\n",
    "    \n",
    "    N = N_claster * N_intra_claster\n",
    "    \n",
    "    # correction factor for t-distribution\n",
    "    c = np.sqrt(((N-2)-2*(N_intra_claster-1)*ICC)/((N-2)*(1+(N_intra_claster-1)*ICC)))\n",
    "    \n",
    "    # corrected degrees of freedom\n",
    "    df = ((N-2)-2*(N_intra_claster-1)*ICC)**2/((N-2)*(1-ICC)**2 + N_intra_claster*(N-2*N_intra_claster)*(ICC**2)+2*(N-2*N_intra_claster)*ICC*(1-ICC))\n",
    "    \n",
    "    # standard deviation of two datasets\n",
    "    s = np.sqrt((N*exper.std()**2+N*control.std()**2)/(2*N-2))\n",
    "    \n",
    "    # t-test\n",
    "    t1=abs(exper.mean()-control.mean())/(s*np.sqrt(1/N+1/N))\n",
    "    \n",
    "    # corrected t-test\n",
    "    ta=c*t1\n",
    "    \n",
    "    p_value_correct = 2*(1-tpdf.cdf(ta, df))\n",
    "    \n",
    "    return p_value_correct"
   ]
  },
  {
   "cell_type": "code",
   "execution_count": 4,
   "metadata": {},
   "outputs": [],
   "source": [
    "def what_probability_false_negative(exper, control, N=1000, plus_number_claster=1):\n",
    "    \n",
    "    inter_claster_SD, intra_claster_SD = SD(exper, control)\n",
    "    return probability_false_negative(N=1000, N_per_day = len(exper[0]), N_days = (plus_number_claster + len(exper)), true_exp_mean = exper.mean(), true_control_mean = control.mean(), inter_day_SD = inter_claster_SD, sigma = intra_claster_SD)[2]\n"
   ]
  },
  {
   "cell_type": "code",
   "execution_count": 5,
   "metadata": {},
   "outputs": [],
   "source": [
    "def what_probability_false_positive(exper, control, N=1000):\n",
    "    \n",
    "    inter_claster_SD, intra_claster_SD = SD(exper, control)\n",
    "    mean = (exper.mean() + control.mean()) / 2\n",
    "    #print(mean, exper.mean(),  control.mean())\n",
    "    return probability_false_positive(\n",
    "        N=1000, N_per_day = len(exper[0]),\n",
    "        N_days = len(exper), true_exp_mean = mean,\n",
    "        true_control_mean = mean, inter_day_SD = inter_claster_SD,\n",
    "        sigma = intra_claster_SD\n",
    "    )[2]"
   ]
  },
  {
   "cell_type": "code",
   "execution_count": null,
   "metadata": {},
   "outputs": [],
   "source": []
  },
  {
   "cell_type": "code",
   "execution_count": 6,
   "metadata": {},
   "outputs": [],
   "source": [
    "def p_values(N_per_day = 10, N_days = 5, true_exp_mean = 1, true_control_mean = 1, inter_day_SD = 0.1, sigma = 0.3, graph=False):\n",
    "    \n",
    "    mean_exp = true_exp_mean*(1 + inter_day_SD*np.random.normal(0, 1, N_days))\n",
    "    mean_control = true_control_mean*(1 + inter_day_SD*np.random.normal(0, 1, N_days))\n",
    "    day_exp = []\n",
    "    mean_days_exp = []\n",
    "    \n",
    "    day_control = []\n",
    "    mean_days_control = []\n",
    "    \n",
    "    for i in range(N_days):\n",
    "        tmp = mean_exp[i]*(1 + sigma*np.random.normal(0, 1, N_per_day))\n",
    "        mean_days_exp.append(tmp.mean())\n",
    "        day_exp.append(tmp)\n",
    "\n",
    "        tmp1 = mean_control[i]*(1 + sigma*np.random.normal(0, 1, N_per_day))\n",
    "        mean_days_control.append(tmp1.mean())\n",
    "        day_control.append(mean_control[i] + sigma*np.random.normal(0, 1, N_per_day))\n",
    "\n",
    "    day_exp = np.array(day_exp)\n",
    "    mean_days_exp = np.array(mean_days_exp)\n",
    "\n",
    "    day_control = np.array(day_control)\n",
    "    mean_days_control = np.array(mean_days_control)\n",
    "    \n",
    "    p_value_all = stats.ttest_ind(day_exp.reshape((N_days*N_per_day)), day_control.reshape((N_days*N_per_day)))[1]\n",
    "    p_value_mean = stats.ttest_ind(mean_days_exp,  mean_days_control)[1]\n",
    "    #print(stats.ttest_ind(day_exp.reshape((N_days*N_per_day)), day_control.reshape((N_days*N_per_day))))\n",
    "    \n",
    "    ICC = inter_day_SD**2/(inter_day_SD**2+sigma**2)\n",
    "    \n",
    "    N=N_per_day*N_days;\n",
    "    # correction factor for t-distribution\n",
    "    c=np.sqrt(((N-2)-2*(N_per_day-1)*ICC)/((N-2)*(1+(N_per_day-1)*ICC)))\n",
    "    # corrected degrees of freedom\n",
    "    df=((N-2)-2*(N_per_day-1)*ICC)**2/((N-2)*(1-ICC)**2 + N_per_day*(N-2*N_per_day)*(ICC**2)+2*(N-2*N_per_day)*ICC*(1-ICC))\n",
    "    # standard deviation of two datasets\n",
    "    #s=np.sqrt(((N-1)*day_exp.std()**2+(N-1)*day_control.std()**2)/(2*N-2))\n",
    "    s=np.sqrt((N*day_exp.std()**2+N*day_control.std()**2)/(2*N-2))\n",
    "    #print(day_exp.std())\n",
    "    # t-test\n",
    "    t1=abs(day_exp.mean()-day_control.mean())/(s*np.sqrt(1/N+1/N))\n",
    "    \n",
    "    # corrected t-test\n",
    "    ta=c*t1\n",
    "    p_value_correct = 2*(1-tpdf.cdf(ta, df))\n",
    "    \n",
    "    \n",
    "    '''\n",
    "    p_value_all_self_calculate = 2*(1-tpdf.cdf(t1, 2*N-2))\n",
    "    \n",
    "    \n",
    "    s2 = np.sqrt(((N_days)*mean_days_exp.std()**2+(N_days)*mean_days_control.std()**2)/(2*N_days-2))\n",
    "    t2=abs(mean_days_exp.mean()-mean_days_control.mean())/(s2*np.sqrt(1/N_days+1/N_days))\n",
    "    p_value_mean_self_calculate = 2*(1-tpdf.cdf(t2, 2*N_days-2))\n",
    "    '''\n",
    "    if graph:\n",
    "        colors = []\n",
    "\n",
    "        for i in range(N_days):\n",
    "            colors.append('#%06X' % randint(0, 0xFFFFFF))\n",
    "        for i in range(N_days):\n",
    "            plt.scatter(np.random.uniform(0.9,1.1,N_per_day), day_exp[i], color=colors[i])\n",
    "            plt.scatter(np.random.uniform(1.9,2.1,N_per_day), day_control[i], color=colors[i])\n",
    "            plt.axis([0,3,-1,2])\n",
    "            plt.plot([0.8,1.2], [mean_days_exp[i],mean_days_exp[i]], color=colors[i])\n",
    "            plt.plot([1.8,2.2], [mean_days_control[i],mean_days_control[i]], color=colors[i])\n",
    "            plt.xlabel('exp                          control') \n",
    "    \n",
    "    return np.array([p_value_all, p_value_mean, p_value_correct])"
   ]
  },
  {
   "cell_type": "code",
   "execution_count": 7,
   "metadata": {},
   "outputs": [],
   "source": [
    "def probability_false_negative(N=1000, N_per_day = 10, N_days = 5, true_exp_mean = 0.8, true_control_mean = 1, inter_day_SD = 0.1, sigma = 0.3):\n",
    "    if true_exp_mean == true_control_mean:\n",
    "        print('ERROR: true_exp_mean = true_control_mean')\n",
    "    false_all = 0\n",
    "    false_mean = 0\n",
    "    false_modified = 0\n",
    "    for i in range(N):\n",
    "        p = p_values(N_per_day = N_per_day, N_days = N_days, true_exp_mean = true_exp_mean, true_control_mean = true_control_mean, inter_day_SD = inter_day_SD, sigma = sigma)\n",
    "        if p[0] > 0.05 :\n",
    "            false_all += 1\n",
    "        if p[1] > 0.05:\n",
    "            false_mean +=1\n",
    "        if p[2] > 0.05:\n",
    "            false_modified +=1\n",
    "            \n",
    "    return [false_all/N, false_mean/N, false_modified/N ]"
   ]
  },
  {
   "cell_type": "code",
   "execution_count": 8,
   "metadata": {},
   "outputs": [],
   "source": [
    "def probability_false_positive(N=1000, N_per_day = 10, N_days = 5, true_exp_mean = 1, true_control_mean = 1, inter_day_SD = 0.1, sigma = 0.3):\n",
    "    if true_exp_mean != true_control_mean:\n",
    "        print('ERROR: true_exp_mean != true_control_mean')\n",
    "    false_all = 0\n",
    "    false_mean = 0\n",
    "    false_modified = 0\n",
    "    for i in range(N):\n",
    "        p = p_values(N_per_day = N_per_day, N_days = N_days, true_exp_mean = true_exp_mean, true_control_mean = true_control_mean, inter_day_SD = inter_day_SD, sigma = sigma)\n",
    "        if p[0] < 0.05 :\n",
    "            false_all += 1\n",
    "        if p[1] < 0.05:\n",
    "            false_mean +=1\n",
    "        if p[2] < 0.05:\n",
    "            false_modified +=1\n",
    "    return [false_all/N, false_mean/N, false_modified/N]\n"
   ]
  },
  {
   "cell_type": "code",
   "execution_count": 17,
   "metadata": {},
   "outputs": [],
   "source": [
    "def display_data(data_exp, data_control):\n",
    "    \"\"\" display data (all experiments and means per clusters)\n",
    "    INPUT: experimental data (matrix) & control data (matrix)\n",
    "    OUTPUT: None \"\"\"\n",
    "    \n",
    "    #Определяем размерность входных данных\n",
    "    N_clusters_exp = len(data_exp)\n",
    "    N_clusters_control = len(data_control)\n",
    "    N_per_cluster_exp = len(data_exp[0])\n",
    "    N_per_cluster_control = len(data_control[0])\n",
    "    \n",
    "\n",
    "    #Считаем средние величины по кластерам\n",
    "    data_exp_mean = data_exp.mean(axis=1)\n",
    "    data_control_mean = data_control.mean(axis=1)\n",
    "    \n",
    "    #Устанавливаем параметры будущего графика\n",
    "    plt.rcParams[\"axes.edgecolor\"] = \"black\"\n",
    "    plt.rcParams[\"axes.linewidth\"] = 1\n",
    "    fig, ax = plt.subplots()\n",
    "    \n",
    "    #Определяем цвета точек разных кластеров\n",
    "    color_exp = ['C{k}'.format(k=i) for i in range(N_clusters_exp)]\n",
    "    color_control = ['C{k}'.format(k=i + N_clusters_exp) for i in range(N_clusters_control)]\n",
    "\n",
    "\n",
    "    #Устанавливаем небольшое смещение точек по оси абцисс для наглядности для exp\n",
    "    arr_exp= np.ones((1,N_per_cluster_exp))+0.15/np.sqrt(N_clusters_exp)*np.random.randn(1,N_per_cluster_exp)\n",
    "    \n",
    "    #Строим эти точки соответсвующих цветов для exp\n",
    "    for i in range(N_clusters_exp): \n",
    "            plt.plot(arr_exp[0], data_exp[i],'.',markersize=6,color=color_exp[i], alpha=0.2)\n",
    "    #Строим кресты для средних значений\n",
    "    #plt.scatter(np.ones(N_clusters_exp), data_exp_mean, 1000, color_exp,'+',lineWidths=3)\n",
    "    plt.errorbar(np.ones(N_clusters_exp), data_exp_mean, xerr= data_exp.std(axis=1),yerr= data_exp.std(axis=1) ,ecolor=color_exp, elinewidth=3 , fmt='None')\n",
    "    \n",
    "    \n",
    "    #Аналогично все тоже самое для контроля\n",
    "    arr_control=2*np.ones((1,N_per_cluster_control))+0.15/np.sqrt(N_clusters_control)*np.random.randn(1,N_per_cluster_control)\n",
    "    for i in range(N_clusters_control):\n",
    "            plt.plot(arr_control[0], data_control[i],'.',markersize=6,color=color_control[i], alpha=0.2)\n",
    "    #plt.scatter(2*np.ones(N_clusters_control), data_control_mean, 200, color_control,'o',lineWidths=3)\n",
    "    plt.errorbar(2*np.ones(N_clusters_control), data_control_mean, xerr= data_control.std(axis=1),yerr= data_control.std(axis=1) , ecolor=color_control, elinewidth=3, fmt='None' )\n",
    "\n",
    "    \n",
    "    #Устанавливаем параметры графика\n",
    "    ax.set_xlim(0,3) #Границы по оси абцисс\n",
    "    ax.set_ylim(0,2) #Границы по оси ординат\n",
    "    ax.patch.set_visible(False)\n",
    "    plt.xticks([]) #Убираем деления по оси икс\n",
    "    plt.xlabel('exp                      control') #подпись к графику\n",
    "\n",
    "    ax.yaxis.set_major_locator(ticker.MultipleLocator(0.2))#  Устанавливаем интервал больших вспомогательных делений:\n",
    "    ax.yaxis.set_minor_locator(ticker.MultipleLocator(0.1))#  Устанавливаем интервал маленьких вспомогательных делений:\n",
    "    ax.patch.set_visible(False) #Невидимый задний фон\n",
    "    ax.spines['right'].set_visible(False) #Невидимая верхняя линия бокса рисунка\n",
    "    ax.spines['top'].set_visible(False)#Невидимая правая линия бокса рисунка\n",
    "\n",
    "    plt.show()"
   ]
  },
  {
   "cell_type": "code",
   "execution_count": null,
   "metadata": {},
   "outputs": [],
   "source": []
  },
  {
   "cell_type": "code",
   "execution_count": null,
   "metadata": {},
   "outputs": [],
   "source": []
  }
 ],
 "metadata": {
  "kernelspec": {
   "display_name": "Python 3",
   "language": "python",
   "name": "python3"
  },
  "language_info": {
   "codemirror_mode": {
    "name": "ipython",
    "version": 3
   },
   "file_extension": ".py",
   "mimetype": "text/x-python",
   "name": "python",
   "nbconvert_exporter": "python",
   "pygments_lexer": "ipython3",
   "version": "3.8.5"
  }
 },
 "nbformat": 4,
 "nbformat_minor": 4
}
