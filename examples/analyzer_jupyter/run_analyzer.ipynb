{
 "cells": [
  {
   "cell_type": "code",
   "execution_count": 1,
   "metadata": {},
   "outputs": [],
   "source": [
    "# %run code.ipynb # use this line when using online jupyter-notebook\n",
    "%run ./code.ipynb # the path to the main code"
   ]
  },
  {
   "cell_type": "markdown",
   "metadata": {},
   "source": [
    "### Analyzing the data we read from the file\n",
    " The text file must consist of lines (clusters), each of which contains numbers separated by a space."
   ]
  },
  {
   "cell_type": "code",
   "execution_count": 2,
   "metadata": {},
   "outputs": [],
   "source": [
    "data_exp = read_file('./experiment.txt')\n",
    "data_control = read_file('./control.txt')"
   ]
  },
  {
   "cell_type": "code",
   "execution_count": 3,
   "metadata": {},
   "outputs": [
    {
     "name": "stdout",
     "output_type": "stream",
     "text": [
      "Mean experimetal =  0.487\n",
      "Mean control =  1.258\n",
      "\n",
      "inter cluster SD = 0.084\n",
      "intra cluster SD = 0.053\n",
      "ICC =  0.716\n",
      "\n",
      "\n",
      "WARNING: N per cluster (experiment) : one value is 20% more than the average. Further calculations may give inaccurate result.\n",
      "WARNING: N per cluster (control): one value is 20% more than the average. Further calculations may give inaccurate result.\n",
      "p value adjusted =  0.003\n",
      "Reject the null hypothesis of equality of means with a significance level of 0.05\n",
      "\n",
      "\n"
     ]
    },
    {
     "name": "stderr",
     "output_type": "stream",
     "text": [
      "/home/oem/anaconda3/lib/python3.7/site-packages/scipy/stats/stats.py:1535: UserWarning: kurtosistest only valid for n>=20 ... continuing anyway, n=11\n",
      "  \"anyway, n=%i\" % int(n))\n",
      "/home/oem/anaconda3/lib/python3.7/site-packages/scipy/stats/stats.py:1535: UserWarning: kurtosistest only valid for n>=20 ... continuing anyway, n=9\n",
      "  \"anyway, n=%i\" % int(n))\n"
     ]
    },
    {
     "name": "stdout",
     "output_type": "stream",
     "text": [
      "Let's assume that the measured parameters are true and simulate data based on them.\n",
      "So, the probability of false negative error is 0.0\n",
      "\n",
      "\n",
      "Let's assume that your SD are true and means are equal: \n",
      " mean_exp = mean_control = (mean_exp+ mean_control)/2 =  0.873\n",
      "So, the probability of false positive error is 0.003\n"
     ]
    },
    {
     "data": {
      "image/png": "[encoded data removed]",
      "text/plain": [
       "<Figure size 432x288 with 1 Axes>"
      ]
     },
     "metadata": {
      "needs_background": "light"
     },
     "output_type": "display_data"
    }
   ],
   "source": [
    "analyze(data_exp, data_control, forecast_error=True, plus_number_cluster=10)"
   ]
  },
  {
   "cell_type": "markdown",
   "metadata": {},
   "source": [
    "You can also read csv files. For example, if your data is in Excel. You can save them in csv format. And upload it here. In this case, each row will be considered as a separate cluster. Use different files to load different data (experiment and control)."
   ]
  },
  {
   "cell_type": "code",
   "execution_count": 4,
   "metadata": {},
   "outputs": [],
   "source": [
    "data_exp = read_file_csv('./experiment.csv')# path to the file\n",
    "data_control = read_file_csv('./control.csv')# path to the file"
   ]
  },
  {
   "cell_type": "code",
   "execution_count": 5,
   "metadata": {},
   "outputs": [
    {
     "name": "stdout",
     "output_type": "stream",
     "text": [
      "Mean experimetal =  3.96\n",
      "Mean control =  3.96\n",
      "\n",
      "inter cluster SD = 0.858\n",
      "intra cluster SD = 0.805\n",
      "ICC =  0.532\n",
      "\n",
      "\n",
      "p value adjusted =  1.0\n",
      "There is no reason to reject the null hypothesis of equality of means with a significance level of 0.05\n",
      "\n",
      "\n",
      "Let's assume that the measured parameters are true and simulate data based on them.\n",
      "So, the probability of false negative error is 0.027\n",
      "\n",
      "\n",
      "Let's assume that your SD are true and means are equal: \n",
      " mean_exp = mean_control = (mean_exp+ mean_control)/2 =  3.96\n",
      "So, the probability of false positive error is 0.026\n"
     ]
    },
    {
     "data": {
      "image/png": "[encoded data removed]",
      "text/plain": [
       "<Figure size 432x288 with 1 Axes>"
      ]
     },
     "metadata": {
      "needs_background": "light"
     },
     "output_type": "display_data"
    }
   ],
   "source": [
    "analyze(data_exp, data_control)"
   ]
  },
  {
   "cell_type": "markdown",
   "metadata": {},
   "source": [
    "### Analyzing the data that we enter manually"
   ]
  },
  {
   "cell_type": "code",
   "execution_count": 6,
   "metadata": {},
   "outputs": [],
   "source": [
    "#Your experimental data\n",
    "#Example:\n",
    "data_exp =  np.array([\n",
    "    np.array([0.7,0.8,0.6,0.5,1, 0.8]), #1st cluster\n",
    "    np.array([1.1,0.9,0.8,0.8,0.9, 1]), #2nd cluster\n",
    "    np.array([0.7,0.6,0.8,0.9,0.7]) #3rd cluster\n",
    "], dtype=object)"
   ]
  },
  {
   "cell_type": "code",
   "execution_count": 7,
   "metadata": {},
   "outputs": [],
   "source": [
    "#control or comparing data\n",
    "#Example:\n",
    "data_control = np.array([\n",
    "    [1,1,1.5,0.5,1], #1st cluster\n",
    "    [1.1,1.2,0.8,1.3,1.0, 1.1], #2nd cluster\n",
    "    [1,1.1,1.3,1.05,0.95]#3rd cluster\n",
    "], dtype=object)"
   ]
  },
  {
   "cell_type": "code",
   "execution_count": 8,
   "metadata": {},
   "outputs": [
    {
     "name": "stdout",
     "output_type": "stream",
     "text": [
      "Mean experimetal =  0.8\n",
      "Mean control =  1.056\n",
      "\n",
      "inter cluster SD = 0.081\n",
      "intra cluster SD = 0.192\n",
      "ICC =  0.151\n",
      "\n",
      "\n",
      "p value adjusted =  0.014\n",
      "Reject the null hypothesis of equality of means with a significance level of 0.05\n",
      "\n",
      "\n"
     ]
    },
    {
     "name": "stderr",
     "output_type": "stream",
     "text": [
      "/home/oem/anaconda3/lib/python3.7/site-packages/scipy/stats/stats.py:1535: UserWarning: kurtosistest only valid for n>=20 ... continuing anyway, n=17\n",
      "  \"anyway, n=%i\" % int(n))\n",
      "/home/oem/anaconda3/lib/python3.7/site-packages/scipy/stats/stats.py:1535: UserWarning: kurtosistest only valid for n>=20 ... continuing anyway, n=16\n",
      "  \"anyway, n=%i\" % int(n))\n"
     ]
    },
    {
     "name": "stdout",
     "output_type": "stream",
     "text": [
      "Let's assume that the measured parameters are true and simulate data based on them.\n",
      "So, the probability of false negative error is 0.266\n",
      "If there were  4  clusters, the false negative error would be 0.122\n",
      "\n",
      "\n",
      "Let's assume that your SD are true and means are equal: \n",
      " mean_exp = mean_control = (mean_exp+ mean_control)/2 =  0.928\n",
      "So, the probability of false positive error is 0.037\n"
     ]
    },
    {
     "data": {
      "image/png": "[encoded data removed]",
      "text/plain": [
       "<Figure size 432x288 with 1 Axes>"
      ]
     },
     "metadata": {
      "needs_background": "light"
     },
     "output_type": "display_data"
    }
   ],
   "source": [
    "analyze(data_exp, data_control, forecast_error=True)"
   ]
  },
  {
   "cell_type": "code",
   "execution_count": null,
   "metadata": {},
   "outputs": [],
   "source": []
  }
 ],
 "metadata": {
  "kernelspec": {
   "display_name": "Python 3",
   "language": "python",
   "name": "python3"
  },
  "language_info": {
   "codemirror_mode": {
    "name": "ipython",
    "version": 3
   },
   "file_extension": ".py",
   "mimetype": "text/x-python",
   "name": "python",
   "nbconvert_exporter": "python",
   "pygments_lexer": "ipython3",
   "version": "3.7.6"
  }
 },
 "nbformat": 4,
 "nbformat_minor": 4
}
