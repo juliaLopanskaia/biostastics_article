{
 "cells": [
  {
   "cell_type": "code",
   "execution_count": 1,
   "metadata": {},
   "outputs": [],
   "source": [
    "# %run code.ipynb # use this line when using online jupyter-notebook\n",
    "# %pycat experiment.txt # use this line when using online jupyter-notebook\n",
    "%run ./code.ipynb # or supply the code with the path in case of using installed jupyter-notebook\n",
    "%pycat ./experiment.txt # or supply the code with the path in case of using installed jupyter-notebook"
   ]
  },
  {
   "cell_type": "code",
   "execution_count": 2,
   "metadata": {},
   "outputs": [],
   "source": [
    "data_exp = read_file('experiment.txt')\n",
    "data_control = read_file('control.txt')"
   ]
  },
  {
   "cell_type": "markdown",
   "metadata": {},
   "source": [
    "What do we mean by false positive or false negative errors in this work?\n",
    "\n",
    "\n",
    "**False positive error** - if true mean of experimental data is equal mean of control data, but we reject the hypothesis of equality of means with a significance level of 0.05\n",
    "\n",
    "\n",
    "**False negative error** - if the true values of the mean of the experiment and control are different, but we do not reject the hypothesis of equality of the means with a significance level of 0.05"
   ]
  },
  {
   "cell_type": "code",
   "execution_count": 3,
   "metadata": {},
   "outputs": [
    {
     "name": "stdout",
     "output_type": "stream",
     "text": [
      "Mean experimetal =  0.973\n",
      "Mean control =  0.841\n",
      "\n",
      "inter cluster SD = 0.122\n",
      "intra cluster SD = 0.22\n",
      "ICC =  0.236\n",
      "\n",
      "\n",
      "p value adjusted =  0.239\n",
      "There is no reason to reject the null hypothesis of equality of means with a significance level of 0.05\n",
      "\n",
      "\n",
      "Let's analyze the result\n",
      "In order to simulate more experiments based on parameters from your data,\n",
      "we have  to assume that the measured parameters are true (as they appear to be in nature).\n",
      "So, for now we have simulated N = 1000 experiments and the probability of false negative error is 0.881\n",
      "If there were  4  clusters, the false negative error would be 0.836\n",
      "If there were  5  clusters, the false negative error would be 0.783\n",
      "If there were  6  clusters, the false negative error would be 0.725\n",
      "If there were  7  clusters, the false negative error would be 0.67\n",
      "If there were  8  clusters, the false negative error would be 0.634\n",
      "If there were  9  clusters, the false negative error would be 0.591\n",
      "If there were  10  clusters, the false negative error would be 0.564\n",
      "If there were  11  clusters, the false negative error would be 0.515\n",
      "If there were  12  clusters, the false negative error would be 0.479\n",
      "If there were  13  clusters, the false negative error would be 0.457\n",
      "If there were  14  clusters, the false negative error would be 0.445\n",
      "If there were  15  clusters, the false negative error would be 0.367\n",
      "If there were  16  clusters, the false negative error would be 0.334\n",
      "If there were  17  clusters, the false negative error would be 0.338\n",
      "If there were  18  clusters, the false negative error would be 0.301\n",
      "If there were  19  clusters, the false negative error would be 0.273\n",
      "If there were  20  clusters, the false negative error would be 0.259\n",
      "If there were  21  clusters, the false negative error would be 0.218\n",
      "If there were  22  clusters, the false negative error would be 0.198\n",
      "\n",
      "\n",
      "What if the means that you obtained are not true? This can hypothetically be the false positive result.\n",
      "Let's assume that your SD are true and the means of control and experiment are not. \n",
      "The means will be equal to (mean_exp+ mean_control)/2 = 0.907\n",
      "So, the probability of false positive error is 0.037\n"
     ]
    },
    {
     "data": {
      "image/png": "[encoded data removed]",
      "text/plain": [
       "<Figure size 432x288 with 1 Axes>"
      ]
     },
     "metadata": {
      "needs_background": "light"
     },
     "output_type": "display_data"
    }
   ],
   "source": [
    "#Analyze data\n",
    "analyze(data_exp, data_control, forecast_error=True)"
   ]
  }
 ],
 "metadata": {
  "kernelspec": {
   "display_name": "Python 3",
   "language": "python",
   "name": "python3"
  },
  "language_info": {
   "codemirror_mode": {
    "name": "ipython",
    "version": 3
   },
   "file_extension": ".py",
   "mimetype": "text/x-python",
   "name": "python",
   "nbconvert_exporter": "python",
   "pygments_lexer": "ipython3",
   "version": "3.7.6"
  }
 },
 "nbformat": 4,
 "nbformat_minor": 4
}
