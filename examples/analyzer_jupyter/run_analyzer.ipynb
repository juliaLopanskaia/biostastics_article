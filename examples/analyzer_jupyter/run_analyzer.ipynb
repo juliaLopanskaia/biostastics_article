{
 "cells": [
  {
   "cell_type": "code",
   "execution_count": 5,
   "metadata": {},
   "outputs": [],
   "source": [
    "# %run code.ipynb # use this line when using online jupyter-notebook\n",
    "%run ./code.ipynb # or supply the code with the path in case of using installed jupyter-notebook"
   ]
  },
  {
   "cell_type": "markdown",
   "metadata": {},
   "source": [
    "What do we mean by false positive or false negative errors in this work?\n",
    "\n",
    "\n",
    "**False positive error** - if true mean of experimental data is equal mean of control data, but we reject the hypothesis of equality of means with a significance level of 0.05\n",
    "\n",
    "\n",
    "**False negative error** - if the true values of the mean of the experiment and control are different, but we do not reject the hypothesis of equality of the means with a significance level of 0.05"
   ]
  },
  {
   "cell_type": "code",
   "execution_count": 6,
   "metadata": {},
   "outputs": [],
   "source": [
    "#Your experimental data\n",
    "#Example:\n",
    "data_exp =  np.array([\n",
    "    [0.7,0.8,0.6,0.5,1], #1st claster\n",
    "    [1.1,0.9,0.8,0.8,0.9], #2nd claster\n",
    "    [0.7,0.6,0.8,0.9,0.7] #3rd claster\n",
    "])"
   ]
  },
  {
   "cell_type": "code",
   "execution_count": 7,
   "metadata": {},
   "outputs": [],
   "source": [
    "#control or comparing data\n",
    "#Example:\n",
    "data_control = np.array([\n",
    "    [1,1,1.5,0.5,1], #1st claster\n",
    "    [1.1,1.2,0.8,1.3,1.0], #2nd claster\n",
    "    [0.8,0.9,1,0.7,0.8] #3rd claster\n",
    "])"
   ]
  },
  {
   "cell_type": "code",
   "execution_count": 8,
   "metadata": {},
   "outputs": [
    {
     "name": "stdout",
     "output_type": "stream",
     "text": [
      "Mean experimetal =  0.787\n",
      "Mean control =  0.973\n",
      "\n",
      "inter cluster SD = 0.099\n",
      "intra cluster SD = 0.143\n",
      "ICC =  0.323\n",
      "\n",
      "\n",
      "p value adjusted =  0.176\n",
      "There is no reason to reject the null hypothesis of equality of means with a significance level of 0.05\n",
      "\n",
      "\n",
      "Let's analyze the result\n",
      "In order to simulate more experiments based on parameters from your data,\n",
      "we have  to assume that the measured parameters are true (as they appear to be in nature).\n",
      "So, for now we have simulated N = 1000 experiments and the probability of false negative error is 0.658\n",
      "If there were  4  clusters, the false negative error would be 0.499\n",
      "If there were  5  clusters, the false negative error would be 0.36\n",
      "If there were  6  clusters, the false negative error would be 0.273\n",
      "If there were  7  clusters, the false negative error would be 0.185\n",
      "\n",
      "\n",
      "What if the means that you obtained are not true? This can hypothetically be the false positive result.\n",
      "Let's assume that your SD are true and the means of control and experiment are not. \n",
      "The means will be equal to (mean_exp+ mean_control)/2 = 0.88\n",
      "So, the probability of false positive error is 0.025\n"
     ]
    },
    {
     "data": {
      "image/png": "[encoded data removed]",
      "text/plain": [
       "<Figure size 432x288 with 1 Axes>"
      ]
     },
     "metadata": {
      "needs_background": "light"
     },
     "output_type": "display_data"
    }
   ],
   "source": [
    "#Analyze data\n",
    "analyze(data_exp, data_control, forecast_error=True)"
   ]
  },
  {
   "cell_type": "code",
   "execution_count": null,
   "metadata": {},
   "outputs": [],
   "source": []
  }
 ],
 "metadata": {
  "kernelspec": {
   "display_name": "Python 3",
   "language": "python",
   "name": "python3"
  },
  "language_info": {
   "codemirror_mode": {
    "name": "ipython",
    "version": 3
   },
   "file_extension": ".py",
   "mimetype": "text/x-python",
   "name": "python",
   "nbconvert_exporter": "python",
   "pygments_lexer": "ipython3",
   "version": "3.7.6"
  }
 },
 "nbformat": 4,
 "nbformat_minor": 4
}
